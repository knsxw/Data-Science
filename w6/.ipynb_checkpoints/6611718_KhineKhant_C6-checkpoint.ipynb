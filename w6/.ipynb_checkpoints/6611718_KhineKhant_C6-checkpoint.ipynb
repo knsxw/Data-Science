{
 "cells": [
  {
   "cell_type": "code",
   "execution_count": 1,
   "id": "7e745b14-dc65-4456-b762-95c3261bdef5",
   "metadata": {},
   "outputs": [],
   "source": [
    "import pandas as pd\n",
    "import matplotlib.pyplot as plt"
   ]
  },
  {
   "cell_type": "code",
   "execution_count": 2,
   "id": "57bbbd41-7fa1-4aa0-8315-51822a9fa0e4",
   "metadata": {},
   "outputs": [
    {
     "name": "stdout",
     "output_type": "stream",
     "text": [
      "   ward  pop_2000  pop_2010 change                                  address  \\\n",
      "0     1     52951     56149     6%              2765 WEST SAINT MARY STREET   \n",
      "1     2     54361     55805     3%                 WM WASTE MANAGEMENT 1500   \n",
      "2     3     40385     53039    31%                      17 EAST 38TH STREET   \n",
      "3     4     51953     54589     5%  31ST ST HARBOR BUILDING LAKEFRONT TRAIL   \n",
      "4     5     55302     51455    -7%  JACKSON PARK LAGOON SOUTH CORNELL DRIVE   \n",
      "\n",
      "     zip  \n",
      "0  60647  \n",
      "1  60622  \n",
      "2  60653  \n",
      "3  60653  \n",
      "4  60637  \n",
      "(50, 6)\n"
     ]
    }
   ],
   "source": [
    "census = pd.read_csv('Wards_Census.csv')\n",
    "print(census.head())\n",
    "print(census.shape)"
   ]
  },
  {
   "cell_type": "code",
   "execution_count": 3,
   "id": "d266728e-13c5-4069-970b-4718e8fcd74f",
   "metadata": {},
   "outputs": [
    {
     "name": "stdout",
     "output_type": "stream",
     "text": [
      "   ward            alderman                          address    zip\n",
      "0     1  Proco \"Joe\" Moreno        2058 NORTH WESTERN AVENUE  60647\n",
      "1     2       Brian Hopkins       1400 NORTH  ASHLAND AVENUE  60622\n",
      "2     3          Pat Dowell          5046 SOUTH STATE STREET  60609\n",
      "3     4    William D. Burns  435 EAST 35TH STREET, 1ST FLOOR  60616\n",
      "4     5  Leslie A. Hairston            2325 EAST 71ST STREET  60649\n",
      "(50, 4)\n"
     ]
    }
   ],
   "source": [
    "wards = pd.read_csv('Wards_Offices.csv')\n",
    "print(wards.head())\n",
    "print(wards.shape)"
   ]
  },
  {
   "cell_type": "code",
   "execution_count": 4,
   "id": "2069714e-6077-4ae2-87d6-0cd44048da17",
   "metadata": {},
   "outputs": [
    {
     "name": "stdout",
     "output_type": "stream",
     "text": [
      "   ward            alderman                        address_x  zip_x  pop_2000  \\\n",
      "0     1  Proco \"Joe\" Moreno        2058 NORTH WESTERN AVENUE  60647     52951   \n",
      "1     2       Brian Hopkins       1400 NORTH  ASHLAND AVENUE  60622     54361   \n",
      "2     3          Pat Dowell          5046 SOUTH STATE STREET  60609     40385   \n",
      "3     4    William D. Burns  435 EAST 35TH STREET, 1ST FLOOR  60616     51953   \n",
      "\n",
      "   pop_2010 change                                address_y  zip_y  \n",
      "0     56149     6%              2765 WEST SAINT MARY STREET  60647  \n",
      "1     55805     3%                 WM WASTE MANAGEMENT 1500  60622  \n",
      "2     53039    31%                      17 EAST 38TH STREET  60653  \n",
      "3     54589     5%  31ST ST HARBOR BUILDING LAKEFRONT TRAIL  60653  \n"
     ]
    }
   ],
   "source": [
    "wards_census = wards.merge(census, on = \"ward\")\n",
    "print(wards_census.head(4))"
   ]
  },
  {
   "cell_type": "code",
   "execution_count": 5,
   "id": "8dd8e06d-7578-4557-bc96-c39884dbb72a",
   "metadata": {},
   "outputs": [
    {
     "name": "stdout",
     "output_type": "stream",
     "text": [
      "   ward            alderman                     address-ward  zip-ward  \\\n",
      "0     1  Proco \"Joe\" Moreno        2058 NORTH WESTERN AVENUE     60647   \n",
      "1     2       Brian Hopkins       1400 NORTH  ASHLAND AVENUE     60622   \n",
      "2     3          Pat Dowell          5046 SOUTH STATE STREET     60609   \n",
      "3     4    William D. Burns  435 EAST 35TH STREET, 1ST FLOOR     60616   \n",
      "\n",
      "   pop_2000  pop_2010 change                              address_cen  zip_cen  \n",
      "0     52951     56149     6%              2765 WEST SAINT MARY STREET    60647  \n",
      "1     54361     55805     3%                 WM WASTE MANAGEMENT 1500    60622  \n",
      "2     40385     53039    31%                      17 EAST 38TH STREET    60653  \n",
      "3     51953     54589     5%  31ST ST HARBOR BUILDING LAKEFRONT TRAIL    60653  \n",
      "(50, 9)\n"
     ]
    }
   ],
   "source": [
    "wards_census = wards.merge(census, on = 'ward', suffixes=(\"-ward\",\"_cen\"))\n",
    "print(wards_census.head(4))\n",
    "print(wards_census.shape)"
   ]
  },
  {
   "cell_type": "code",
   "execution_count": 6,
   "id": "e188c5d4-f7bf-4975-bd68-467b651df310",
   "metadata": {},
   "outputs": [
    {
     "name": "stdout",
     "output_type": "stream",
     "text": [
      "(3519, 5)\n",
      "     rid   vid           owner                 address    zip\n",
      "0  T6285  6285  AGEAN TAXI LLC     4536 N. ELSTON AVE.  60630\n",
      "1  T4862  4862    MANGIB CORP.  5717 N. WASHTENAW AVE.  60659\n",
      "2  T1495  1495   FUNRIDE, INC.     3351 W. ADDISON ST.  60618\n",
      "3  T4231  4231    ALQUSH CORP.   6611 N. CAMPBELL AVE.  60645\n",
      "4  T5971  5971  EUNIFFORD INC.     3351 W. ADDISON ST.  60618\n",
      "===============================================================================\n",
      "(3519, 6)\n",
      "    vid    make   model  year fuel_type                owner\n",
      "0  2767  TOYOTA   CAMRY  2013    HYBRID       SEYED M. BADRI\n",
      "1  1411  TOYOTA    RAV4  2017    HYBRID          DESZY CORP.\n",
      "2  6500  NISSAN  SENTRA  2019  GASOLINE       AGAPH CAB CORP\n",
      "3  2746  TOYOTA   CAMRY  2013    HYBRID  MIDWEST CAB CO, INC\n",
      "4  5922  TOYOTA   CAMRY  2013    HYBRID       SUMETTI CAB CO\n"
     ]
    }
   ],
   "source": [
    "taxi_owners = pd.read_pickle('taxi_owners.p')\n",
    "taxi_veh = pd.read_pickle('taxi_vehicles.p')\n",
    "print(taxi_owners.shape)\n",
    "print(taxi_owners.head())\n",
    "print(\"===============================================================================\")\n",
    "print(taxi_veh.shape)\n",
    "print(taxi_veh.head())"
   ]
  },
  {
   "cell_type": "code",
   "execution_count": 7,
   "id": "1a918c23-3c91-42f4-ac88-2ffc4a9e01b6",
   "metadata": {},
   "outputs": [
    {
     "name": "stdout",
     "output_type": "stream",
     "text": [
      "Index(['rid', 'vid', 'owner_x', 'address', 'zip', 'make', 'model', 'year',\n",
      "       'fuel_type', 'owner_y'],\n",
      "      dtype='object')\n",
      "(3519, 10)\n"
     ]
    }
   ],
   "source": [
    "taxi_owners_veh = taxi_owners.merge(taxi_veh, on = \"vid\")\n",
    "print(taxi_owners_veh.columns)\n",
    "print(taxi_owners_veh.shape)"
   ]
  },
  {
   "cell_type": "code",
   "execution_count": 8,
   "id": "fb68b690-a532-487b-a66a-a71d28be7e91",
   "metadata": {},
   "outputs": [
    {
     "name": "stdout",
     "output_type": "stream",
     "text": [
      "(46, 4)\n"
     ]
    }
   ],
   "source": [
    "wards_altered = pd.read_csv('Wards_Offices_Altered.csv')\n",
    "print(wards_altered.shape)"
   ]
  },
  {
   "cell_type": "code",
   "execution_count": 9,
   "id": "5c6ebcc6-0103-4b4f-b4c0-0a49f447eb8e",
   "metadata": {},
   "outputs": [
    {
     "name": "stdout",
     "output_type": "stream",
     "text": [
      "   ward            alderman                     address_ward  zip_ward  \\\n",
      "0     1  Proco \"Joe\" Moreno        2058 NORTH WESTERN AVENUE     60647   \n",
      "1     2       Brian Hopkins       1400 NORTH  ASHLAND AVENUE     60622   \n",
      "2     3          Pat Dowell          5046 SOUTH STATE STREET     60609   \n",
      "3     4    William D. Burns  435 EAST 35TH STREET, 1ST FLOOR     60616   \n",
      "\n",
      "   pop_2000  pop_2010 change                           address_census  \\\n",
      "0     52951     56149     6%              2765 WEST SAINT MARY STREET   \n",
      "1     54361     55805     3%                 WM WASTE MANAGEMENT 1500   \n",
      "2     40385     53039    31%                      17 EAST 38TH STREET   \n",
      "3     51953     54589     5%  31ST ST HARBOR BUILDING LAKEFRONT TRAIL   \n",
      "\n",
      "   zip_census  \n",
      "0       60647  \n",
      "1       60622  \n",
      "2       60653  \n",
      "3       60653  \n",
      "(46, 9)\n"
     ]
    }
   ],
   "source": [
    "wards_census_altered = wards_altered.merge(census, on = 'ward', suffixes= ('_ward','_census'))\n",
    "print(wards_census_altered.head(4))\n",
    "print(wards_census_altered.shape)"
   ]
  },
  {
   "cell_type": "code",
   "execution_count": 10,
   "id": "bb8d1ce9-d67a-41a9-9e34-7ba30e924dd1",
   "metadata": {},
   "outputs": [
    {
     "name": "stdout",
     "output_type": "stream",
     "text": [
      "   account  ward  aid                   business               address  \\\n",
      "0   307071     3  743       REGGIE'S BAR & GRILL       2105 S STATE ST   \n",
      "1       10    10  829                 HONEYBEERS   13200 S HOUSTON AVE   \n",
      "2    10002    14  775                CELINA DELI     5089 S ARCHER AVE   \n",
      "3    10005    12  NaN  KRAFT FOODS NORTH AMERICA        2005 W 43RD ST   \n",
      "4    10044    44  638  NEYBOUR'S TAVERN & GRILLE  3651 N SOUTHPORT AVE   \n",
      "\n",
      "       zip  \n",
      "0  60616.0  \n",
      "1  60633.0  \n",
      "2  60632.0  \n",
      "3  60609.0  \n",
      "4  60613.0  \n",
      "(10000, 6)\n"
     ]
    }
   ],
   "source": [
    "licenses = pd.read_csv('Business_Licenses.csv')\n",
    "print(licenses.head())\n",
    "print(licenses.shape)"
   ]
  },
  {
   "cell_type": "code",
   "execution_count": 11,
   "id": "024007f0-0726-42a8-8d92-fbae4ca2d288",
   "metadata": {},
   "outputs": [
    {
     "name": "stdout",
     "output_type": "stream",
     "text": [
      "   ward            alderman               address_ward  zip_ward  account  \\\n",
      "0     1  Proco \"Joe\" Moreno  2058 NORTH WESTERN AVENUE     60647    12024   \n",
      "1     1  Proco \"Joe\" Moreno  2058 NORTH WESTERN AVENUE     60647    14446   \n",
      "2     1  Proco \"Joe\" Moreno  2058 NORTH WESTERN AVENUE     60647    14624   \n",
      "3     1  Proco \"Joe\" Moreno  2058 NORTH WESTERN AVENUE     60647    14987   \n",
      "4     1  Proco \"Joe\" Moreno  2058 NORTH WESTERN AVENUE     60647    15642   \n",
      "\n",
      "   aid              business              address_lic  zip_lic  \n",
      "0  NaN   DIGILOG ELECTRONICS       1038 N ASHLAND AVE  60622.0  \n",
      "1  743      EMPTY BOTTLE INC   1035 N WESTERN AVE 1ST  60622.0  \n",
      "2  775  LITTLE MEL'S HOT DOG    2205 N CALIFORNIA AVE  60647.0  \n",
      "3  NaN    MR. BROWN'S LOUNGE   2301 W CHICAGO AVE 1ST  60622.0  \n",
      "4  814          Beat Kitchen  2000-2100 W DIVISION ST  60622.0  \n"
     ]
    }
   ],
   "source": [
    "ward_licenses = wards.merge(licenses, on = \"ward\", suffixes=('_ward','_lic'))\n",
    "print(ward_licenses.head())"
   ]
  },
  {
   "cell_type": "code",
   "execution_count": 12,
   "id": "bd42900b-b08b-4127-9d91-0c3582b53988",
   "metadata": {},
   "outputs": [
    {
     "name": "stdout",
     "output_type": "stream",
     "text": [
      "(50, 4)\n",
      "(10000, 9)\n"
     ]
    }
   ],
   "source": [
    "print(wards.shape)\n",
    "print(ward_licenses.shape)"
   ]
  },
  {
   "cell_type": "code",
   "execution_count": 13,
   "id": "519e4273-0bd6-4d97-be30-eabdcc9bc450",
   "metadata": {},
   "outputs": [
    {
     "name": "stdout",
     "output_type": "stream",
     "text": [
      "                 account\n",
      "title                   \n",
      "PRESIDENT           6259\n",
      "SECRETARY           5205\n",
      "SOLE PROPRIETOR     1658\n",
      "OTHER               1200\n",
      "VICE PRESIDENT       970\n"
     ]
    }
   ],
   "source": [
    "licenses = pd.read_pickle('licenses.p')\n",
    "biz_owners = pd.read_pickle('business_owners.p')\n",
    "\n",
    "licenses_owners = licenses.merge(biz_owners, on='account')\n",
    "counted_df = licenses_owners.groupby('title').agg({'account': 'count'})\n",
    "sorted_df = counted_df.sort_values(by='account', ascending=False)\n",
    "\n",
    "print(sorted_df.head())"
   ]
  },
  {
   "cell_type": "code",
   "execution_count": 39,
   "id": "bc6c4982-bb48-4a81-8953-6e2f1deb0515",
   "metadata": {},
   "outputs": [
    {
     "name": "stdout",
     "output_type": "stream",
     "text": [
      "cal DataFrame:\n",
      "   year  month  day        day_type\n",
      "0  2019      1    1  Sunday/Holiday\n",
      "1  2019      1    2         Weekday\n",
      "2  2019      1    3         Weekday\n",
      "3  2019      1    4         Weekday\n",
      "4  2019      1    5        Saturday\n",
      "\n",
      "ridership DataFrame:\n",
      "  station_id  year  month  day  rides\n",
      "0      40010  2019      1    1    576\n",
      "1      40010  2019      1    2   1457\n",
      "2      40010  2019      1    3   1543\n",
      "3      40010  2019      1    4   1621\n",
      "4      40010  2019      1    5    719\n",
      "\n",
      "stations DataFrame:\n",
      "  station_id        station_name                 location\n",
      "0      40010  Austin-Forest Park  (41.870851, -87.776812)\n",
      "1      40020         Harlem-Lake  (41.886848, -87.803176)\n",
      "2      40030        Pulaski-Lake  (41.885412, -87.725404)\n",
      "3      40040        Quincy/Wells   (41.878723, -87.63374)\n",
      "4      40050               Davis   (42.04771, -87.683543)\n"
     ]
    }
   ],
   "source": [
    "cal = pd.read_pickle('cta_calendar.p')\n",
    "ridership = pd.read_pickle('cta_ridership.p')  \n",
    "stations = pd.read_pickle('stations.p')  \n",
    "\n",
    "print(\"cal DataFrame:\")\n",
    "print(cal.head())\n",
    "\n",
    "print(\"\\nridership DataFrame:\")\n",
    "print(ridership.head())\n",
    "\n",
    "print(\"\\nstations DataFrame:\")\n",
    "print(stations.head())"
   ]
  },
  {
   "cell_type": "code",
   "execution_count": 38,
   "id": "240463bc-444b-4f1e-bac4-9870e07622aa",
   "metadata": {},
   "outputs": [
    {
     "name": "stdout",
     "output_type": "stream",
     "text": [
      "\n",
      "Total riders in a month: 140005\n"
     ]
    }
   ],
   "source": [
    "#4\n",
    "ridership_cal = ridership.merge(cal, on=['year', 'month', 'day'])\n",
    "\n",
    "ridership_cal_stations = ridership_cal.merge(stations, on='station_id')\n",
    "\n",
    "filter_criteria = (\n",
    "    (ridership_cal_stations['station_name'] == 'Wilson') &\n",
    "    (ridership_cal_stations['day_type'] == 'Weekday') &\n",
    "    (ridership_cal_stations['month'] == 7)\n",
    ")\n",
    "\n",
    "total_riders = ridership_cal_stations.loc[filter_criteria, 'rides'].sum()\n",
    "\n",
    "print(\"\\nTotal riders in a month:\", total_riders)"
   ]
  },
  {
   "cell_type": "code",
   "execution_count": 15,
   "id": "d992d0e6-8024-4bd2-b125-5a7ce7a83a60",
   "metadata": {},
   "outputs": [
    {
     "name": "stdout",
     "output_type": "stream",
     "text": [
      "                             income\n",
      "alderman                           \n",
      "Ameya Pawar                 66246.0\n",
      "Anthony A. Beale            38206.0\n",
      "Anthony V. Napolitano       82226.0\n",
      "Ariel E. Reyboras           41307.0\n",
      "Brendan Reilly             110215.0\n",
      "Brian Hopkins               87143.0\n",
      "Carlos Ramirez-Rosa         66246.0\n",
      "Carrie M. Austin            38206.0\n",
      "Chris Taliaferro            55566.0\n",
      "Daniel \"Danny\" Solis        41226.0\n",
      "David H. Moore              33304.0\n",
      "Deborah Mell                66246.0\n",
      "Debra L. Silverstein        50554.0\n",
      "Derrick G. Curtis           65770.0\n",
      "Edward M. Burke             42335.0\n",
      "Emma M. Mitts               36283.0\n",
      "George Cardenas             33959.0\n",
      "Gilbert Villegas            41307.0\n",
      "Gregory I. Mitchell         24941.0\n",
      "Harry Osterman              45442.0\n",
      "Howard B. Brookins, Jr.     33304.0\n",
      "James Cappleman             79565.0\n",
      "Jason C. Ervin              41226.0\n",
      "Joe Moore                   39163.0\n",
      "John S. Arena               70122.0\n",
      "Leslie A. Hairston          28024.0\n",
      "Margaret Laurino            70122.0\n",
      "Marty Quinn                 67045.0\n",
      "Matthew J. O'Shea           59488.0\n",
      "Michael R. Zalewski         42335.0\n",
      "Michael Scott, Jr.          31445.0\n",
      "Michelle A. Harris          32558.0\n",
      "Michelle Smith             100116.0\n",
      "Milagros \"Milly\" Santiago   41307.0\n",
      "Nicholas Sposato            62223.0\n",
      "Pat Dowell                  46340.0\n",
      "Patrick Daley Thompson      41226.0\n",
      "Patrick J. O'Connor         50554.0\n",
      "Proco \"Joe\" Moreno          87143.0\n",
      "Raymond A. Lopez            33959.0\n",
      "Ricardo Munoz               31445.0\n",
      "Roberto Maldonado           68223.0\n",
      "Roderick T. Sawyer          32558.0\n",
      "Scott Waguespack            68223.0\n",
      "Susan Sadlowski Garza       38417.0\n",
      "Tom Tunney                  88708.0\n",
      "Toni L. Foulkes             27573.0\n",
      "Walter Burnett, Jr.         87143.0\n",
      "William D. Burns           107811.0\n",
      "Willie B. Cochran           28024.0\n"
     ]
    }
   ],
   "source": [
    "licenses = pd.read_pickle('licenses.p')\n",
    "wards = pd.read_pickle('ward.p')\n",
    "zip_demo = pd.read_pickle('zip_demo.p')\n",
    "\n",
    "licenses_zip = licenses.merge(zip_demo, on='zip')\n",
    "licenses_zip_ward = licenses_zip.merge(wards, on='ward')\n",
    "result = licenses_zip_ward.groupby('alderman').agg({'income': 'median'})\n",
    "\n",
    "print(result)"
   ]
  },
  {
   "cell_type": "code",
   "execution_count": 16,
   "id": "51239ecc-b324-4ce9-94b6-243e14faf699",
   "metadata": {},
   "outputs": [
    {
     "name": "stdout",
     "output_type": "stream",
     "text": [
      "      id                 title  popularity release_date\n",
      "0    257          Oliver Twist   20.415572    23/9/2005\n",
      "1  14290  Better Luck Tomorrow    3.877036    12/1/2002\n",
      "2  38365             Grown Ups   38.864027    24/6/2010\n",
      "3   9672              Infamous    3.680896   16/11/2006\n",
      "4  12819       Alpha and Omega   12.300789    17/9/2010\n",
      "(4803, 4)\n"
     ]
    }
   ],
   "source": [
    "movies = pd.read_csv('tmdb_movies.csv')\n",
    "print(movies.head())\n",
    "print(movies.shape)"
   ]
  },
  {
   "cell_type": "code",
   "execution_count": 17,
   "id": "6afa2f4a-39d3-4f91-a59c-c5771527fd9e",
   "metadata": {},
   "outputs": [
    {
     "name": "stdout",
     "output_type": "stream",
     "text": [
      "       id                                         tagline\n",
      "0   19995                     Enter the World of Pandora.\n",
      "1     285  At the end of the world, the adventure begins.\n",
      "2  206647                           A Plan No One Escapes\n",
      "3   49026                                 The Legend Ends\n",
      "4   49529            Lost in our world, found in another.\n",
      "(3955, 2)\n"
     ]
    }
   ],
   "source": [
    "taglines = pd.read_csv('tdmb_taglines.csv')\n",
    "print(taglines.head())\n",
    "print(taglines.shape)"
   ]
  },
  {
   "cell_type": "code",
   "execution_count": 18,
   "id": "a7c27d8d-d5dd-4c6b-b0cb-566a17139cc6",
   "metadata": {},
   "outputs": [
    {
     "name": "stdout",
     "output_type": "stream",
     "text": [
      "      id                 title  popularity release_date  \\\n",
      "0    257          Oliver Twist   20.415572    23/9/2005   \n",
      "1  14290  Better Luck Tomorrow    3.877036    12/1/2002   \n",
      "2  38365             Grown Ups   38.864027    24/6/2010   \n",
      "3   9672              Infamous    3.680896   16/11/2006   \n",
      "4  12819       Alpha and Omega   12.300789    17/9/2010   \n",
      "\n",
      "                                           tagline  \n",
      "0                                              NaN  \n",
      "1             Never underestimate an overachiever.  \n",
      "2  Boys will be boys. . . some longer than others.  \n",
      "3          There's more to the story than you know  \n",
      "4                           A Pawsome 3D Adventure  \n",
      "(4803, 5)\n"
     ]
    }
   ],
   "source": [
    "movie_taglines = movies.merge(taglines, on = 'id', how = 'left')\n",
    "print(movie_taglines.head())\n",
    "print(movie_taglines.shape)"
   ]
  },
  {
   "cell_type": "code",
   "execution_count": 19,
   "id": "96611753-f5e7-4861-b7c7-2fa3a4b18d3f",
   "metadata": {},
   "outputs": [
    {
     "name": "stdout",
     "output_type": "stream",
     "text": [
      "Number of rows with missing budget: 1574\n"
     ]
    }
   ],
   "source": [
    "#6\n",
    "movies = pd.read_pickle('movies.p')\n",
    "financials = pd.read_pickle('financials.p')\n",
    "\n",
    "movies_financials = movies.merge(financials, on='id', how='left')\n",
    "missing_budget_count = movies_financials['budget'].isnull().sum()\n",
    "\n",
    "print(\"Number of rows with missing budget:\", missing_budget_count)"
   ]
  },
  {
   "cell_type": "code",
   "execution_count": 20,
   "id": "8f5b6624-4917-44c2-aa2c-ba765c455530",
   "metadata": {},
   "outputs": [
    {
     "name": "stdout",
     "output_type": "stream",
     "text": [
      "      id        title  popularity release_date                   tagline\n",
      "0  10193  Toy Story 3      59.995    16/6/2010  No toy gets left behind.\n",
      "1    863  Toy Story 2      73.575   30/10/1999        The toys are back!\n",
      "2    862    Toy Story      73.640   30/10/1995                       NaN\n",
      "Type of toystory_tag_left: <class 'pandas.core.frame.DataFrame'>\n",
      "======================================================================\n",
      "      id        title  popularity release_date                   tagline\n",
      "0  10193  Toy Story 3      59.995    16/6/2010  No toy gets left behind.\n",
      "1    863  Toy Story 2      73.575   30/10/1999        The toys are back!\n",
      "Type of toystory_tag_inner: <class 'pandas.core.frame.DataFrame'>\n"
     ]
    }
   ],
   "source": [
    "toy_story = pd.read_csv('toy_story.csv')\n",
    "taglines = pd.read_pickle('taglines.p')\n",
    "\n",
    "toystory_tag_left = toy_story.merge(taglines, on='id', how='left')\n",
    "print(toystory_tag_left)\n",
    "print(\"Type of toystory_tag_left:\", type(toystory_tag_left))\n",
    "\n",
    "print(\"======================================================================\")\n",
    "\n",
    "toystory_tag_inner = toy_story.merge(taglines, on='id', how='inner')\n",
    "print(toystory_tag_inner)\n",
    "print(\"Type of toystory_tag_inner:\", type(toystory_tag_inner))\n"
   ]
  },
  {
   "cell_type": "code",
   "execution_count": 21,
   "id": "033ac6e8-d12a-4239-8d7d-8fe542c09037",
   "metadata": {},
   "outputs": [
    {
     "name": "stdout",
     "output_type": "stream",
     "text": [
      "       movie_id     genre\n",
      "4998      10947  TV Movie\n",
      "5994      13187  TV Movie\n",
      "7443      22488  TV Movie\n",
      "10061     78814  TV Movie\n",
      "10790    153397  TV Movie\n",
      "10835    158150  TV Movie\n",
      "11096    205321  TV Movie\n",
      "11282    231617  TV Movie\n"
     ]
    }
   ],
   "source": [
    "movie_to_genres = pd.read_csv('tdmb_movie_to_genres.csv')\n",
    "tv_genre = movie_to_genres[movie_to_genres['genre'] == 'TV Movie']\n",
    "print(tv_genre)"
   ]
  },
  {
   "cell_type": "code",
   "execution_count": 22,
   "id": "c987e130-11b9-4485-8bfd-92270bbc1128",
   "metadata": {},
   "outputs": [
    {
     "name": "stdout",
     "output_type": "stream",
     "text": [
      "       id                      title  popularity release_date  movie_id  \\\n",
      "0   10947        High School Musical   16.536374   2006-01-20     10947   \n",
      "1   13187  A Charlie Brown Christmas    8.701183   1965-12-09     13187   \n",
      "2   22488         Love's Abiding Joy    1.128559   2006-10-06     22488   \n",
      "3   78814       We Have Your Husband    0.102003   2011-11-12     78814   \n",
      "4  153397                   Restless    0.812776   2012-12-07    153397   \n",
      "\n",
      "      genre  \n",
      "0  TV Movie  \n",
      "1  TV Movie  \n",
      "2  TV Movie  \n",
      "3  TV Movie  \n",
      "4  TV Movie  \n"
     ]
    }
   ],
   "source": [
    "tv_movies = movies.merge(tv_genre, how = 'right', \n",
    "                         left_on = 'id', right_on = 'movie_id')\n",
    "print(tv_movies.head())"
   ]
  },
  {
   "cell_type": "code",
   "execution_count": 23,
   "id": "f216af69-1653-4b9e-b4cd-d80e1e578d8e",
   "metadata": {},
   "outputs": [
    {
     "name": "stdout",
     "output_type": "stream",
     "text": [
      "     movie_id   genre\n",
      "5          12  Family\n",
      "33         35  Family\n",
      "111       105  Family\n"
     ]
    }
   ],
   "source": [
    "m = movie_to_genres['genre'] == 'Family'\n",
    "family = movie_to_genres[m].head(3)\n",
    "print(family)"
   ]
  },
  {
   "cell_type": "code",
   "execution_count": 25,
   "id": "e1edde83-1507-4f80-a703-347d66173bd6",
   "metadata": {},
   "outputs": [
    {
     "name": "stdout",
     "output_type": "stream",
     "text": [
      "   movie_id genre_fam genre_com\n",
      "0         5       NaN    Comedy\n",
      "1        12    Family       NaN\n",
      "2        13       NaN    Comedy\n",
      "3        35    Family    Comedy\n",
      "4       105    Family       NaN\n"
     ]
    }
   ],
   "source": [
    "family_comedy = family.merge(comedy, on = 'movie_id', how = 'outer',\n",
    "                             suffixes=('_fam','_com'))\n",
    "print(family_comedy)"
   ]
  },
  {
   "cell_type": "code",
   "execution_count": 26,
   "id": "f59d47cf-5f6d-46fb-a600-798e9f32a6e7",
   "metadata": {},
   "outputs": [
    {
     "name": "stdout",
     "output_type": "stream",
     "text": [
      "Unique Science Fiction Movies:\n",
      "         id                         title  popularity release_date  movie_id  \\\n",
      "0     18841  The Lost Skeleton of Cadavra    1.680525   2001-09-12     18841   \n",
      "1     26672     The Thief and the Cobbler    2.439184   1993-09-23     26672   \n",
      "2     15301      Twilight Zone: The Movie   12.902975   1983-06-24     15301   \n",
      "3      8452                   The 6th Day   18.447479   2000-11-17      8452   \n",
      "4      1649    Bill & Ted's Bogus Journey   11.349664   1991-07-19      1649   \n",
      "..      ...                           ...         ...          ...       ...   \n",
      "253  245703              Midnight Special   32.717853   2016-02-18    245703   \n",
      "254    3509              A Scanner Darkly   26.093043   2006-05-25      3509   \n",
      "255   42188               Never Let Me Go   30.983397   2010-09-15     42188   \n",
      "256   18045                The Dark Hours    1.428483   2005-03-11     18045   \n",
      "257   11058                       Godsend   12.102350   2004-04-30     11058   \n",
      "\n",
      "    genre_act        genre_sci  \n",
      "0         NaN  Science Fiction  \n",
      "1         NaN  Science Fiction  \n",
      "2         NaN  Science Fiction  \n",
      "3         NaN  Science Fiction  \n",
      "4         NaN  Science Fiction  \n",
      "..        ...              ...  \n",
      "253       NaN  Science Fiction  \n",
      "254       NaN  Science Fiction  \n",
      "255       NaN  Science Fiction  \n",
      "256       NaN  Science Fiction  \n",
      "257       NaN  Science Fiction  \n",
      "\n",
      "[258 rows x 7 columns]\n"
     ]
    }
   ],
   "source": [
    "movies = pd.read_pickle('movies.p')\n",
    "movie_to_genres = pd.read_csv('tdmb_movie_to_genres.csv')\n",
    "m = movie_to_genres['genre'] == 'Science Fiction'\n",
    "scifi_movies = movie_to_genres[m]\n",
    "\n",
    "m = movie_to_genres['genre'] == 'Action'\n",
    "action_movies = movie_to_genres[m]\n",
    "action_scifi = action_movies.merge(scifi_movies, on='movie_id', how='right', suffixes=('_act', '_sci'))\n",
    "\n",
    "scifi_only = action_scifi[action_scifi['genre_act'].isnull()]\n",
    "scifi_only_movies = movies.merge(scifi_only, left_on='id', right_on='movie_id', how='inner')\n",
    "\n",
    "\n",
    "print(\"Unique Science Fiction Movies:\")\n",
    "print(scifi_only_movies)"
   ]
  },
  {
   "cell_type": "code",
   "execution_count": 35,
   "id": "4a814339-1306-48b1-a2ca-c67ef083167b",
   "metadata": {},
   "outputs": [
    {
     "name": "stdout",
     "output_type": "stream",
     "text": [
      "    movie_id            genre  Unnamed: 0      id  \\\n",
      "0     211672           Comedy        4546  211672   \n",
      "1     211672        Adventure        4546  211672   \n",
      "2     211672        Animation        4546  211672   \n",
      "3     211672           Family        4546  211672   \n",
      "4     157336            Drama        4343  157336   \n",
      "5     157336  Science Fiction        4343  157336   \n",
      "6     157336        Adventure        4343  157336   \n",
      "7     293660        Adventure        1966  293660   \n",
      "8     293660           Action        1966  293660   \n",
      "9     293660           Comedy        1966  293660   \n",
      "10    118340        Adventure        2423  118340   \n",
      "11    118340  Science Fiction        2423  118340   \n",
      "12    118340           Action        2423  118340   \n",
      "13     76341           Action        4220   76341   \n",
      "14     76341  Science Fiction        4220   76341   \n",
      "15     76341        Adventure        4220   76341   \n",
      "16     76341         Thriller        4220   76341   \n",
      "17    135397         Thriller        1867  135397   \n",
      "18    135397        Adventure        1867  135397   \n",
      "19    135397           Action        1867  135397   \n",
      "20    135397  Science Fiction        1867  135397   \n",
      "21        22          Fantasy        4375      22   \n",
      "22        22        Adventure        4375      22   \n",
      "23        22           Action        4375      22   \n",
      "24    119450           Action        1106  119450   \n",
      "25    119450            Drama        1106  119450   \n",
      "26    119450         Thriller        1106  119450   \n",
      "27    119450  Science Fiction        1106  119450   \n",
      "28    131631         Thriller        4216  131631   \n",
      "29    131631        Adventure        4216  131631   \n",
      "30    131631  Science Fiction        4216  131631   \n",
      "31    177572        Adventure        2614  177572   \n",
      "32    177572           Action        2614  177572   \n",
      "33    177572           Comedy        2614  177572   \n",
      "34    177572        Animation        2614  177572   \n",
      "35    177572           Family        2614  177572   \n",
      "\n",
      "                                                title  popularity release_date  \n",
      "0                                             Minions     875.581    17/6/2015  \n",
      "1                                             Minions     875.581    17/6/2015  \n",
      "2                                             Minions     875.581    17/6/2015  \n",
      "3                                             Minions     875.581    17/6/2015  \n",
      "4                                        Interstellar     724.248    5/11/2014  \n",
      "5                                        Interstellar     724.248    5/11/2014  \n",
      "6                                        Interstellar     724.248    5/11/2014  \n",
      "7                                            Deadpool     514.570     9/2/2016  \n",
      "8                                            Deadpool     514.570     9/2/2016  \n",
      "9                                            Deadpool     514.570     9/2/2016  \n",
      "10                            Guardians of the Galaxy     481.099    30/7/2014  \n",
      "11                            Guardians of the Galaxy     481.099    30/7/2014  \n",
      "12                            Guardians of the Galaxy     481.099    30/7/2014  \n",
      "13                                 Mad Max: Fury Road     434.279    13/5/2015  \n",
      "14                                 Mad Max: Fury Road     434.279    13/5/2015  \n",
      "15                                 Mad Max: Fury Road     434.279    13/5/2015  \n",
      "16                                 Mad Max: Fury Road     434.279    13/5/2015  \n",
      "17                                     Jurassic World     418.709     9/6/2015  \n",
      "18                                     Jurassic World     418.709     9/6/2015  \n",
      "19                                     Jurassic World     418.709     9/6/2015  \n",
      "20                                     Jurassic World     418.709     9/6/2015  \n",
      "21  Pirates of the Caribbean: The Curse of the Bla...     271.973     9/7/2003  \n",
      "22  Pirates of the Caribbean: The Curse of the Bla...     271.973     9/7/2003  \n",
      "23  Pirates of the Caribbean: The Curse of the Bla...     271.973     9/7/2003  \n",
      "24                     Dawn of the Planet of the Apes     243.792    26/6/2014  \n",
      "25                     Dawn of the Planet of the Apes     243.792    26/6/2014  \n",
      "26                     Dawn of the Planet of the Apes     243.792    26/6/2014  \n",
      "27                     Dawn of the Planet of the Apes     243.792    26/6/2014  \n",
      "28              The Hunger Games: Mockingjay - Part 1     206.227   18/11/2014  \n",
      "29              The Hunger Games: Mockingjay - Part 1     206.227   18/11/2014  \n",
      "30              The Hunger Games: Mockingjay - Part 1     206.227   18/11/2014  \n",
      "31                                         Big Hero 6     203.735   24/10/2014  \n",
      "32                                         Big Hero 6     203.735   24/10/2014  \n",
      "33                                         Big Hero 6     203.735   24/10/2014  \n",
      "34                                         Big Hero 6     203.735   24/10/2014  \n",
      "35                                         Big Hero 6     203.735   24/10/2014  \n",
      "genre\n",
      "Action             7\n",
      "Adventure          9\n",
      "Animation          2\n",
      "Comedy             3\n",
      "Drama              2\n",
      "Family             2\n",
      "Fantasy            1\n",
      "Science Fiction    6\n",
      "Thriller           4\n",
      "Name: id, dtype: int64\n"
     ]
    },
    {
     "data": {
      "image/png": "[encoded data removed]",
      "text/plain": [
       "<Figure size 1000x600 with 1 Axes>"
      ]
     },
     "metadata": {},
     "output_type": "display_data"
    },
    {
     "data": {
      "image/png": "[encoded data removed]",
      "text/plain": [
       "<Figure size 640x480 with 1 Axes>"
      ]
     },
     "metadata": {},
     "output_type": "display_data"
    }
   ],
   "source": [
    "pop_movies = pd.read_csv('pop_movies.csv')\n",
    "movie_to_genres = pd.read_csv('tdmb_movie_to_genres.csv')\n",
    "\n",
    "genres_movies = movie_to_genres.merge(pop_movies, left_on='movie_id', \n",
    "                                      right_on='id', how='right')\n",
    "genre_counts = genres_movies.groupby('genre')['id'].count()\n",
    "print(genres_movies)\n",
    "print(genre_counts)\n",
    "\n",
    "plt.figure(figsize=(10, 6))\n",
    "genre_counts.plot(kind='bar')\n",
    "plt.xlabel('Genre')\n",
    "plt.ylabel('Count of Movies')\n",
    "plt.show()\n",
    "\n",
    "#Ajarn version\n",
    "genres_movies = movie_to_genres.merge(pop_movies, how='right',left_on = 'movie_id',right_on = 'id')\n",
    "genre_count = genres_movies.groupby ('genre').agg({'id' :'count'})\n",
    "genre_count. plot(kind='bar')\n",
    "plt.show()\n"
   ]
  },
  {
   "cell_type": "code",
   "execution_count": 28,
   "id": "1eb1faaa-1f44-463d-8829-72c0ec43b077",
   "metadata": {},
   "outputs": [
    {
     "name": "stdout",
     "output_type": "stream",
     "text": [
      "   id_org                                          title_org  sequel_org  \\\n",
      "0     862                                          Toy Story         863   \n",
      "1     863                                        Toy Story 2       10193   \n",
      "2     675          Harry Potter and the Order of the Phoenix         767   \n",
      "3     121              The Lord of the Rings: The Two Towers         122   \n",
      "4     120  The Lord of the Rings: The Fellowship of the Ring         121   \n",
      "\n",
      "   id_seq                                      title_seq  sequel_seq  \n",
      "0     863                                    Toy Story 2       10193  \n",
      "1   10193                                    Toy Story 3        <NA>  \n",
      "2     767         Harry Potter and the Half-Blood Prince        <NA>  \n",
      "3     122  The Lord of the Rings: The Return of the King        <NA>  \n",
      "4     121          The Lord of the Rings: The Two Towers         122  \n",
      "======================================================================\n",
      "                                           title_org  \\\n",
      "0                                          Toy Story   \n",
      "1                                        Toy Story 2   \n",
      "2          Harry Potter and the Order of the Phoenix   \n",
      "3              The Lord of the Rings: The Two Towers   \n",
      "4  The Lord of the Rings: The Fellowship of the Ring   \n",
      "\n",
      "                                       title_seq  \n",
      "0                                    Toy Story 2  \n",
      "1                                    Toy Story 3  \n",
      "2         Harry Potter and the Half-Blood Prince  \n",
      "3  The Lord of the Rings: The Return of the King  \n",
      "4          The Lord of the Rings: The Two Towers  \n"
     ]
    }
   ],
   "source": [
    "sequels = pd.read_pickle('sequels.p')\n",
    "original_sequels = sequels.merge(sequels, left_on = 'sequel',\n",
    "                                 right_on = 'id', suffixes = ('_org','_seq'))\n",
    "print(original_sequels.head())\n",
    "print(\"======================================================================\")\n",
    "print(original_sequels[['title_org','title_seq']].head())\n"
   ]
  },
  {
   "cell_type": "code",
   "execution_count": 29,
   "id": "3b98b74b-41c0-4f09-91fc-7f0bb4d9d558",
   "metadata": {},
   "outputs": [
    {
     "name": "stdout",
     "output_type": "stream",
     "text": [
      "   id_org     title_org  sequel_org  id_seq    title_seq  sequel_seq\n",
      "0   19995        Avatar        <NA>    <NA>          NaN        <NA>\n",
      "1     862     Toy Story         863     863  Toy Story 2       10193\n",
      "2     863   Toy Story 2       10193   10193  Toy Story 3        <NA>\n",
      "3     597       Titanic        <NA>    <NA>          NaN        <NA>\n",
      "4   24428  The Avengers        <NA>    <NA>          NaN        <NA>\n"
     ]
    }
   ],
   "source": [
    "original_sequels = sequels.merge(sequels, left_on='sequel', right_on = 'id',\n",
    "                                 how = 'left', suffixes = ('_org','_seq'))\n",
    "print(original_sequels.head())"
   ]
  },
  {
   "cell_type": "code",
   "execution_count": 30,
   "id": "c3097f1e-faba-4770-8f86-f757142db547",
   "metadata": {},
   "outputs": [
    {
     "name": "stdout",
     "output_type": "stream",
     "text": [
      "        id department_dir   job_dir       name_dir department_crew  \\\n",
      "156  19995      Directing  Director  James Cameron         Editing   \n",
      "157  19995      Directing  Director  James Cameron           Sound   \n",
      "158  19995      Directing  Director  James Cameron      Production   \n",
      "160  19995      Directing  Director  James Cameron         Writing   \n",
      "161  19995      Directing  Director  James Cameron             Art   \n",
      "\n",
      "           job_crew          name_crew  \n",
      "156          Editor  Stephen E. Rivkin  \n",
      "157  Sound Designer  Christopher Boyes  \n",
      "158         Casting          Mali Finn  \n",
      "160          Writer      James Cameron  \n",
      "161    Set Designer    Richard F. Mays  \n"
     ]
    }
   ],
   "source": [
    "crews = pd.read_pickle('crews.p')\n",
    "crews_self_merged = crews.merge(crews, on='id', suffixes=('_dir', '_crew'))\n",
    "\n",
    "boolean_filter = ((crews_self_merged['job_dir'] == 'Director') & \n",
    "                  (crews_self_merged['job_crew'] != 'Director'))\n",
    "direct_crews = crews_self_merged[boolean_filter]\n",
    "print(direct_crews.head())"
   ]
  },
  {
   "cell_type": "code",
   "execution_count": 31,
   "id": "474f26ca-9768-40ac-9379-db6f7688bf51",
   "metadata": {},
   "outputs": [
    {
     "name": "stdout",
     "output_type": "stream",
     "text": [
      "Concatenated with sort=True:\n",
      "   aid             composer  gid  mtid                     name   tid  u_price\n",
      "0  152  J.Hetfield/L.Ulrich    3     1                  Battery  1853     0.99\n",
      "1  152            K.Hammett    3     1        Master Of Puppets  1854     0.99\n",
      "2  152  J.Hetfield/L.Ulrich    3     1        Disposable Heroes  1857     0.99\n",
      "0  154                  NaN    3     1     Fight Fire With Fire  1874     0.99\n",
      "1  154                  NaN    3     1       Ride The Lightning  1875     0.99\n",
      "2  154                  NaN    3     1  For Whom The Bell Tolls  1876     0.99\n",
      "3  154                  NaN    3     1            Fade To Black  1877     0.99\n",
      "4  154                  NaN    3     1        Trapped Under Ice  1878     0.99\n",
      "0  155                  NaN    3     1                  Frantic  1882     0.99\n",
      "1  155                  NaN    3     1                St. Anger  1883     0.99\n",
      "2  155                  NaN    3     1     Some Kind Of Monster  1884     0.99\n",
      "3  155                  NaN    3     1             Dirty Window  1885     0.99\n",
      "4  155                  NaN    3     1            Invisible Kid  1886     0.99\n",
      "\n",
      "Concatenated with reset index:\n",
      "     tid                     name  aid  mtid  gid             composer  \\\n",
      "0   1853                  Battery  152     1    3  J.Hetfield/L.Ulrich   \n",
      "1   1854        Master Of Puppets  152     1    3            K.Hammett   \n",
      "2   1857        Disposable Heroes  152     1    3  J.Hetfield/L.Ulrich   \n",
      "3   1874     Fight Fire With Fire  154     1    3                  NaN   \n",
      "4   1875       Ride The Lightning  154     1    3                  NaN   \n",
      "5   1876  For Whom The Bell Tolls  154     1    3                  NaN   \n",
      "6   1877            Fade To Black  154     1    3                  NaN   \n",
      "7   1878        Trapped Under Ice  154     1    3                  NaN   \n",
      "8   1882                  Frantic  155     1    3                  NaN   \n",
      "9   1883                St. Anger  155     1    3                  NaN   \n",
      "10  1884     Some Kind Of Monster  155     1    3                  NaN   \n",
      "11  1885             Dirty Window  155     1    3                  NaN   \n",
      "12  1886            Invisible Kid  155     1    3                  NaN   \n",
      "\n",
      "    u_price  \n",
      "0      0.99  \n",
      "1      0.99  \n",
      "2      0.99  \n",
      "3      0.99  \n",
      "4      0.99  \n",
      "5      0.99  \n",
      "6      0.99  \n",
      "7      0.99  \n",
      "8      0.99  \n",
      "9      0.99  \n",
      "10     0.99  \n",
      "11     0.99  \n",
      "12     0.99  \n",
      "\n",
      "Concatenated showing only common columns:\n",
      "    tid                     name  aid  mtid  gid  u_price\n",
      "0  1853                  Battery  152     1    3     0.99\n",
      "1  1854        Master Of Puppets  152     1    3     0.99\n",
      "2  1857        Disposable Heroes  152     1    3     0.99\n",
      "0  1874     Fight Fire With Fire  154     1    3     0.99\n",
      "1  1875       Ride The Lightning  154     1    3     0.99\n",
      "2  1876  For Whom The Bell Tolls  154     1    3     0.99\n",
      "3  1877            Fade To Black  154     1    3     0.99\n",
      "4  1878        Trapped Under Ice  154     1    3     0.99\n",
      "0  1882                  Frantic  155     1    3     0.99\n",
      "1  1883                St. Anger  155     1    3     0.99\n",
      "2  1884     Some Kind Of Monster  155     1    3     0.99\n",
      "3  1885             Dirty Window  155     1    3     0.99\n",
      "4  1886            Invisible Kid  155     1    3     0.99\n"
     ]
    }
   ],
   "source": [
    "#11\n",
    "tracks_master = pd.read_csv('tracks_master.csv')\n",
    "tracks_ride = pd.read_csv('tracks_ride.csv')\n",
    "tracks_st = pd.read_csv('tracks_st.csv')\n",
    "\n",
    "concat_sorted = pd.concat([tracks_master, tracks_ride, tracks_st], sort=True)\n",
    "print(\"Concatenated with sort=True:\")\n",
    "print(concat_sorted)\n",
    "\n",
    "concat_reset_index = pd.concat([tracks_master, tracks_ride, tracks_st], ignore_index=True)\n",
    "print(\"\\nConcatenated with reset index:\")\n",
    "print(concat_reset_index)\n",
    "\n",
    "concat_common_columns = pd.concat([tracks_master, tracks_ride, tracks_st], join='inner')\n",
    "print(\"\\nConcatenated showing only common columns:\")\n",
    "print(concat_common_columns)"
   ]
  },
  {
   "cell_type": "code",
   "execution_count": 32,
   "id": "c921ec29-f4ee-46d0-a9d4-27873a749dc2",
   "metadata": {},
   "outputs": [
    {
     "data": {
      "image/png": "[encoded data removed]",
      "text/plain": [
       "<Figure size 800x500 with 1 Axes>"
      ]
     },
     "metadata": {},
     "output_type": "display_data"
    }
   ],
   "source": [
    "#12\n",
    "inv_jul = pd.read_csv('inv_jul.csv', index_col=0)\n",
    "inv_aug = pd.read_csv('inv_aug.csv', index_col=0)\n",
    "inv_sep = pd.read_csv('inv_sep.csv', index_col=0)\n",
    "\n",
    "avg_inv_by_month = pd.concat([inv_jul, inv_aug, inv_sep], \n",
    "                             keys=['7Jul', '8Aug', '9Sep'], \n",
    "                             names=['Month'])\n",
    "\n",
    "avg_inv_by_month = avg_inv_by_month.groupby(level='Month').agg({'total': 'mean'})\n",
    "\n",
    "plt.figure(figsize=(8, 5))\n",
    "avg_inv_by_month['total'].plot(kind='bar')\n",
    "plt.xlabel('Month')\n",
    "plt.ylabel('Average Invoice Total')\n",
    "plt.xticks(rotation=0)  \n",
    "plt.show()"
   ]
  },
  {
   "cell_type": "code",
   "execution_count": 33,
   "id": "5d7df061-fd40-4a82-9e41-5e215270ae92",
   "metadata": {},
   "outputs": [
    {
     "name": "stdout",
     "output_type": "stream",
     "text": [
      "   Unnamed: 0 country code  year           gdp    date  returns\n",
      "0           3          USA  2010  1.500000e+13  2010.0    12.78\n",
      "1           7          USA  2011  1.550000e+13  2011.0     0.00\n",
      "2          11          USA  2012  1.620000e+13  2012.0    13.41\n",
      "3          15          USA  2012  1.620000e+13  2012.0    13.41\n",
      "4          19          USA  2013  1.680000e+13  2013.0    29.60\n",
      "5          23          USA  2014  1.750000e+13  2014.0    11.39\n",
      "6          27          USA  2015  1.820000e+13  2015.0    -0.73\n",
      "7          31          USA  2016  1.870000e+13  2016.0     9.54\n",
      "8          35          USA  2017  1.950000e+13  2017.0    19.42\n",
      "9          39          USA  2018  2.050000e+13     NaN      NaN\n",
      "   Unnamed: 0 country code  year           gdp  date  returns\n",
      "9          39          USA  2018  2.050000e+13   NaN      NaN\n",
      "              gdp   returns\n",
      "gdp      1.000000  0.220321\n",
      "returns  0.220321  1.000000\n"
     ]
    }
   ],
   "source": [
    "#13\n",
    "sp500 = pd.read_csv('S&P500.csv')\n",
    "gdp = pd.read_csv('GDP.csv')\n",
    "\n",
    "gdp_sp500 = pd.merge_ordered(gdp, sp500, left_on='year', right_on='date', how='left')\n",
    "print(gdp_sp500)\n",
    "print(gdp_sp500[gdp_sp500['year'] == 2018])\n",
    "\n",
    "gdp_sp500 = pd.merge_ordered(gdp, sp500, left_on='year', right_on='date', how='left', fill_method='ffill')\n",
    "\n",
    "gdp_returns = gdp_sp500[['gdp', 'returns']]\n",
    "print(gdp_returns.corr())"
   ]
  },
  {
   "cell_type": "code",
   "execution_count": 34,
   "id": "e8f98b7f-2341-4fd5-b813-9798aac979e3",
   "metadata": {},
   "outputs": [
    {
     "name": "stdout",
     "output_type": "stream",
     "text": [
      "Merged inflation and unemployment data:\n",
      "       date      cpi     seriesid                  data_type  \\\n",
      "0  1/1/2014  235.288  CUSR0000SA0  SEASONALLY ADJUSTED INDEX   \n",
      "1  1/1/2015  234.718  CUSR0000SA0  SEASONALLY ADJUSTED INDEX   \n",
      "2  1/1/2016  237.833  CUSR0000SA0  SEASONALLY ADJUSTED INDEX   \n",
      "3  1/1/2017  243.780  CUSR0000SA0  SEASONALLY ADJUSTED INDEX   \n",
      "4  1/1/2018  248.884  CUSR0000SA0  SEASONALLY ADJUSTED INDEX   \n",
      "\n",
      "   unemployment_rate  \n",
      "0                6.7  \n",
      "1                5.6  \n",
      "2                5.0  \n",
      "3                4.7  \n",
      "4                4.1  \n"
     ]
    },
    {
     "data": {
      "image/png": "[encoded data removed]",
      "text/plain": [
       "<Figure size 800x500 with 1 Axes>"
      ]
     },
     "metadata": {},
     "output_type": "display_data"
    },
    {
     "name": "stdout",
     "output_type": "stream",
     "text": [
      "\n",
      "Correlation matrix between unemployment rate and CPI:\n",
      "                   unemployment_rate       cpi\n",
      "unemployment_rate           1.000000 -0.868388\n",
      "cpi                        -0.868388  1.000000\n"
     ]
    }
   ],
   "source": [
    "#14\n",
    "unemployment = pd.read_csv('unemployment.csv')\n",
    "inflation = pd.read_csv('inflation.csv')\n",
    "\n",
    "inflation_unemploy = pd.merge_ordered(inflation, unemployment, on='date', how='inner')\n",
    "print(\"Merged inflation and unemployment data:\")\n",
    "print(inflation_unemploy.head())\n",
    "\n",
    "plt.figure(figsize=(8, 5))\n",
    "plt.scatter(inflation_unemploy['unemployment_rate'], inflation_unemploy['cpi'], alpha=0.7)\n",
    "plt.xlabel('Unemployment Rate')\n",
    "plt.ylabel('CPI (Inflation)')\n",
    "plt.grid(True)\n",
    "plt.show()\n",
    "\n",
    "correlation_matrix = inflation_unemploy[['unemployment_rate', 'cpi']].corr()\n",
    "print(\"\\nCorrelation matrix between unemployment rate and CPI:\")\n",
    "print(correlation_matrix)"
   ]
  },
  {
   "cell_type": "code",
   "execution_count": null,
   "id": "c29a627d-3714-4150-8fa9-bb4c91a625d6",
   "metadata": {},
   "outputs": [],
   "source": []
  }
 ],
 "metadata": {
  "kernelspec": {
   "display_name": "myenv",
   "language": "python",
   "name": "myenv"
  },
  "language_info": {
   "codemirror_mode": {
    "name": "ipython",
    "version": 3
   },
   "file_extension": ".py",
   "mimetype": "text/x-python",
   "name": "python",
   "nbconvert_exporter": "python",
   "pygments_lexer": "ipython3",
   "version": "3.13.0"
  }
 },
 "nbformat": 4,
 "nbformat_minor": 5
}
